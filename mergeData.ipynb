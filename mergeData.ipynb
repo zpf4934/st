{
 "cells": [
  {
   "cell_type": "code",
   "execution_count": 1,
   "metadata": {},
   "outputs": [],
   "source": [
    "from core import plotK\n",
    "from fbprophet import Prophet\n",
    "from sklearn.preprocessing import StandardScaler\n",
    "from core.getData import Data\n",
    "from core.tools import RestDay, ProphetPlot, ProfessionalKlineChart,Tools, PlotPE, PlotLSTM\n",
    "from core.model import ProphetModel,XGBModel,LSTMModel\n",
    "import pandas as pd\n",
    "import numpy as np\n",
    "from pyecharts.charts import Tab\n",
    "import datetime\n",
    "import talib\n",
    "from pyecharts.globals import CurrentConfig, NotebookType\n",
    "CurrentConfig.NOTEBOOK_TYPE = NotebookType.JUPYTER_LAB"
   ]
  },
  {
   "cell_type": "code",
   "execution_count": 2,
   "metadata": {},
   "outputs": [],
   "source": [
    "pe = PlotPE()"
   ]
  },
  {
   "cell_type": "code",
   "execution_count": 3,
   "metadata": {},
   "outputs": [
    {
     "name": "stdout",
     "output_type": "stream",
     "text": [
      "login success!\n"
     ]
    }
   ],
   "source": [
    "data = Data('sz.300362', '2010-01-01')"
   ]
  },
  {
   "cell_type": "code",
   "execution_count": 4,
   "metadata": {
    "jupyter": {
     "outputs_hidden": true
    }
   },
   "outputs": [
    {
     "name": "stderr",
     "output_type": "stream",
     "text": [
      "2021-03-11 09:41:24,044 [stock] /Users/andy/work/code/st/core/tools.py drew_pe 2197 INFO - \r",
      "进度sz.300999 3992/3992:[🚀🚀🚀🚀🚀🚀🚀🚀🚀🚀🚀🚀🚀🚀🚀🚀🚀🚀🚀🚀🚀🚀🚀🚀🚀🚀🚀🚀🚀🚀]100.00% 2051.81s\n"
     ]
    },
    {
     "name": "stdout",
     "output_type": "stream",
     "text": [
      "login success!\n"
     ]
    }
   ],
   "source": [
    "result = pe.drew_pe(code='all')"
   ]
  },
  {
   "cell_type": "code",
   "execution_count": 5,
   "metadata": {},
   "outputs": [],
   "source": [
    "cache_data = np.load('./mark_cache/PEPB.npz', allow_pickle = True)"
   ]
  },
  {
   "cell_type": "code",
   "execution_count": 8,
   "metadata": {},
   "outputs": [],
   "source": [
    "df = pd.DataFrame(cache_data.get('sh.600000'), columns = ['date','peTTM','pbMRQ'])"
   ]
  },
  {
   "cell_type": "code",
   "execution_count": 5,
   "metadata": {
    "scrolled": true
   },
   "outputs": [
    {
     "data": {
      "text/html": [
       "<div>\n",
       "<style scoped>\n",
       "    .dataframe tbody tr th:only-of-type {\n",
       "        vertical-align: middle;\n",
       "    }\n",
       "\n",
       "    .dataframe tbody tr th {\n",
       "        vertical-align: top;\n",
       "    }\n",
       "\n",
       "    .dataframe thead th {\n",
       "        text-align: right;\n",
       "    }\n",
       "</style>\n",
       "<table border=\"1\" class=\"dataframe\">\n",
       "  <thead>\n",
       "    <tr style=\"text-align: right;\">\n",
       "      <th></th>\n",
       "      <th>code</th>\n",
       "      <th>peTTM</th>\n",
       "      <th>PEpercentile</th>\n",
       "      <th>pbMRQ</th>\n",
       "      <th>PBpercentile</th>\n",
       "    </tr>\n",
       "  </thead>\n",
       "  <tbody>\n",
       "    <tr>\n",
       "      <th>0</th>\n",
       "      <td>sh.600000</td>\n",
       "      <td>5.399888</td>\n",
       "      <td>0.15</td>\n",
       "      <td>0.617240</td>\n",
       "      <td>0.04</td>\n",
       "    </tr>\n",
       "    <tr>\n",
       "      <th>1</th>\n",
       "      <td>sh.600004</td>\n",
       "      <td>570.968051</td>\n",
       "      <td>0.99</td>\n",
       "      <td>1.940154</td>\n",
       "      <td>0.58</td>\n",
       "    </tr>\n",
       "    <tr>\n",
       "      <th>2</th>\n",
       "      <td>sh.600006</td>\n",
       "      <td>21.443223</td>\n",
       "      <td>0.47</td>\n",
       "      <td>1.658745</td>\n",
       "      <td>0.37</td>\n",
       "    </tr>\n",
       "    <tr>\n",
       "      <th>3</th>\n",
       "      <td>sh.600007</td>\n",
       "      <td>14.512753</td>\n",
       "      <td>0.03</td>\n",
       "      <td>1.574175</td>\n",
       "      <td>0.03</td>\n",
       "    </tr>\n",
       "    <tr>\n",
       "      <th>4</th>\n",
       "      <td>sh.600008</td>\n",
       "      <td>16.282408</td>\n",
       "      <td>0.01</td>\n",
       "      <td>1.394398</td>\n",
       "      <td>0.01</td>\n",
       "    </tr>\n",
       "    <tr>\n",
       "      <th>...</th>\n",
       "      <td>...</td>\n",
       "      <td>...</td>\n",
       "      <td>...</td>\n",
       "      <td>...</td>\n",
       "      <td>...</td>\n",
       "    </tr>\n",
       "    <tr>\n",
       "      <th>3983</th>\n",
       "      <td>sz.300948</td>\n",
       "      <td>51.923838</td>\n",
       "      <td>0.10</td>\n",
       "      <td>8.603021</td>\n",
       "      <td>0.10</td>\n",
       "    </tr>\n",
       "    <tr>\n",
       "      <th>3984</th>\n",
       "      <td>sz.300949</td>\n",
       "      <td>39.546652</td>\n",
       "      <td>0.11</td>\n",
       "      <td>9.932474</td>\n",
       "      <td>0.11</td>\n",
       "    </tr>\n",
       "    <tr>\n",
       "      <th>3985</th>\n",
       "      <td>sz.300950</td>\n",
       "      <td>85.194882</td>\n",
       "      <td>0.17</td>\n",
       "      <td>14.312182</td>\n",
       "      <td>0.17</td>\n",
       "    </tr>\n",
       "    <tr>\n",
       "      <th>3986</th>\n",
       "      <td>sz.300951</td>\n",
       "      <td>44.693232</td>\n",
       "      <td>0.11</td>\n",
       "      <td>19.384495</td>\n",
       "      <td>0.11</td>\n",
       "    </tr>\n",
       "    <tr>\n",
       "      <th>3987</th>\n",
       "      <td>sz.300999</td>\n",
       "      <td>69.828963</td>\n",
       "      <td>0.52</td>\n",
       "      <td>6.068946</td>\n",
       "      <td>0.45</td>\n",
       "    </tr>\n",
       "  </tbody>\n",
       "</table>\n",
       "<p>3988 rows × 5 columns</p>\n",
       "</div>"
      ],
      "text/plain": [
       "           code       peTTM  PEpercentile      pbMRQ  PBpercentile\n",
       "0     sh.600000    5.399888          0.15   0.617240          0.04\n",
       "1     sh.600004  570.968051          0.99   1.940154          0.58\n",
       "2     sh.600006   21.443223          0.47   1.658745          0.37\n",
       "3     sh.600007   14.512753          0.03   1.574175          0.03\n",
       "4     sh.600008   16.282408          0.01   1.394398          0.01\n",
       "...         ...         ...           ...        ...           ...\n",
       "3983  sz.300948   51.923838          0.10   8.603021          0.10\n",
       "3984  sz.300949   39.546652          0.11   9.932474          0.11\n",
       "3985  sz.300950   85.194882          0.17  14.312182          0.17\n",
       "3986  sz.300951   44.693232          0.11  19.384495          0.11\n",
       "3987  sz.300999   69.828963          0.52   6.068946          0.45\n",
       "\n",
       "[3988 rows x 5 columns]"
      ]
     },
     "execution_count": 5,
     "metadata": {},
     "output_type": "execute_result"
    }
   ],
   "source": [
    "result"
   ]
  },
  {
   "cell_type": "code",
   "execution_count": 14,
   "metadata": {},
   "outputs": [
    {
     "data": {
      "text/plain": [
       "5167"
      ]
     },
     "execution_count": 14,
     "metadata": {},
     "output_type": "execute_result"
    }
   ],
   "source": [
    "len(df)"
   ]
  },
  {
   "cell_type": "code",
   "execution_count": null,
   "metadata": {},
   "outputs": [],
   "source": []
  },
  {
   "cell_type": "code",
   "execution_count": null,
   "metadata": {},
   "outputs": [],
   "source": []
  },
  {
   "cell_type": "code",
   "execution_count": 14,
   "metadata": {},
   "outputs": [
    {
     "data": {
      "text/plain": [
       "array([['2004-01-30', '39.452538', '5.443715'],\n",
       "       ['2004-02-02', '39.015794', '5.383453'],\n",
       "       ['2004-02-03', '38.695515', '5.339260'],\n",
       "       ...,\n",
       "       ['2021-03-05', '3424.043148', '1.339078'],\n",
       "       ['2021-03-08', '3496.614390', '1.367459'],\n",
       "       ['2021-03-09', '3397.653605', '1.328757']], dtype=object)"
      ]
     },
     "execution_count": 14,
     "metadata": {},
     "output_type": "execute_result"
    }
   ],
   "source": [
    "cache_data.get('sh.600249')"
   ]
  }
 ],
 "metadata": {
  "kernelspec": {
   "display_name": "Python 3",
   "language": "python",
   "name": "python3"
  },
  "language_info": {
   "codemirror_mode": {
    "name": "ipython",
    "version": 3
   },
   "file_extension": ".py",
   "mimetype": "text/x-python",
   "name": "python",
   "nbconvert_exporter": "python",
   "pygments_lexer": "ipython3",
   "version": "3.8.5"
  }
 },
 "nbformat": 4,
 "nbformat_minor": 4
}
